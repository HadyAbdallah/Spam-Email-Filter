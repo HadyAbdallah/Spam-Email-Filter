{
 "cells": [
  {
   "cell_type": "code",
   "execution_count": 53,
   "id": "edc1bdb9-8c20-45a4-b5e9-c78c031c6b13",
   "metadata": {},
   "outputs": [],
   "source": [
    "# Nouran Ahmed    20200609\n",
    "# Nada Alaa Elden 20200589\n",
    "# Mariam Hany     20200532\n",
    "# Hady Abdallah   20200617\n",
    "# Mohamed Essam   20200464"
   ]
  },
  {
   "cell_type": "code",
   "execution_count": 54,
   "id": "6cdcdd46-b4c6-42ce-a9eb-0eaa7dcd3703",
   "metadata": {},
   "outputs": [],
   "source": [
    "import pandas as pd\n",
    "import numpy as np\n",
    "import matplotlib.pyplot as plt\n",
    "import seaborn as sns\n",
    "import nltk\n",
    "from nltk.corpus import stopwords\n",
    "from nltk.tokenize import word_tokenize\n",
    "from nltk.stem import WordNetLemmatizer\n",
    "from sklearn.model_selection import train_test_split\n",
    "from sklearn.feature_extraction.text import CountVectorizer, TfidfVectorizer\n",
    "from sklearn.linear_model import LogisticRegression\n",
    "from sklearn.tree import DecisionTreeClassifier\n",
    "from sklearn.metrics import accuracy_score, precision_score, recall_score, f1_score\n",
    "import re\n",
    "from gensim.models import Word2Vec\n",
    "import multiprocessing\n",
    "from gensim.models.doc2vec import Doc2Vec, TaggedDocument\n",
    "from sklearn.metrics import accuracy_score, classification_report\n",
    "from gensim.models.doc2vec import Doc2Vec, TaggedDocument\n",
    "from tabulate import tabulate\n",
    "\n",
    "import warnings\n",
    "warnings.filterwarnings(\"ignore\")"
   ]
  },
  {
   "cell_type": "code",
   "execution_count": 55,
   "id": "9d52f8d8-f54a-4643-b396-00a811e3925c",
   "metadata": {},
   "outputs": [
    {
     "name": "stderr",
     "output_type": "stream",
     "text": [
      "[nltk_data] Downloading package punkt to\n",
      "[nltk_data]     C:\\Users\\noran\\AppData\\Roaming\\nltk_data...\n",
      "[nltk_data]   Package punkt is already up-to-date!\n",
      "[nltk_data] Downloading package wordnet to\n",
      "[nltk_data]     C:\\Users\\noran\\AppData\\Roaming\\nltk_data...\n",
      "[nltk_data]   Package wordnet is already up-to-date!\n",
      "[nltk_data] Downloading package stopwords to\n",
      "[nltk_data]     C:\\Users\\noran\\AppData\\Roaming\\nltk_data...\n",
      "[nltk_data]   Package stopwords is already up-to-date!\n",
      "[nltk_data] Downloading package averaged_perceptron_tagger to\n",
      "[nltk_data]     C:\\Users\\noran\\AppData\\Roaming\\nltk_data...\n",
      "[nltk_data]   Package averaged_perceptron_tagger is already up-to-\n",
      "[nltk_data]       date!\n"
     ]
    },
    {
     "data": {
      "text/plain": [
       "True"
      ]
     },
     "execution_count": 55,
     "metadata": {},
     "output_type": "execute_result"
    }
   ],
   "source": [
    "nltk.download('punkt')\n",
    "nltk.download('wordnet')\n",
    "nltk.download('stopwords')\n",
    "nltk.download('averaged_perceptron_tagger')"
   ]
  },
  {
   "cell_type": "code",
   "execution_count": 56,
   "id": "40f251f8-7651-410f-b4af-96be9d56ca57",
   "metadata": {},
   "outputs": [
    {
     "name": "stdout",
     "output_type": "stream",
     "text": [
      "                                                text  target\n",
      "0  From ilug-admin@linux.ie Mon Jul 29 11:28:02 2...       0\n",
      "1  From gort44@excite.com Mon Jun 24 17:54:21 200...       1\n",
      "2  From fork-admin@xent.com Mon Jul 29 11:39:57 2...       1\n",
      "3  From dcm123@btamail.net.cn Mon Jun 24 17:49:23...       1\n",
      "4  From ilug-admin@linux.ie Mon Aug 19 11:02:47 2...       0\n"
     ]
    }
   ],
   "source": [
    "# read the dataset\n",
    "df = pd.read_csv(\"Spam_Email_Data.csv\")\n",
    "# Print information about the dataset\n",
    "print(df.head())"
   ]
  },
  {
   "cell_type": "code",
   "execution_count": 57,
   "id": "cd87f5bc-bd8b-4b8c-9ea9-bf201d62263b",
   "metadata": {},
   "outputs": [
    {
     "name": "stdout",
     "output_type": "stream",
     "text": [
      "Info about the dataset: \n",
      "<class 'pandas.core.frame.DataFrame'>\n",
      "RangeIndex: 5796 entries, 0 to 5795\n",
      "Data columns (total 2 columns):\n",
      " #   Column  Non-Null Count  Dtype \n",
      "---  ------  --------------  ----- \n",
      " 0   text    5796 non-null   object\n",
      " 1   target  5796 non-null   int64 \n",
      "dtypes: int64(1), object(1)\n",
      "memory usage: 90.7+ KB\n",
      "None\n",
      "------------------------------------------\n",
      "target\n",
      "0    3900\n",
      "1    1896\n",
      "Name: count, dtype: int64\n",
      "-------------------------------------------\n"
     ]
    },
    {
     "data": {
      "image/png": "[encoded data removed]",
      "text/plain": [
       "<Figure size 640x480 with 1 Axes>"
      ]
     },
     "metadata": {},
     "output_type": "display_data"
    }
   ],
   "source": [
    "# Examining the distribution of samples in each class.\n",
    "# info about the dataset\n",
    "print(\"Info about the dataset: \")\n",
    "print(df.info())\n",
    "print(\"------------------------------------------\")\n",
    "# count the num of samples in each class\n",
    "class_distribution = df['target'].value_counts()\n",
    "print(class_distribution)\n",
    "print(\"-------------------------------------------\")\n",
    "class_distribution.plot(kind='bar', color=['green', 'red'])\n",
    "plt.title('Class Distribution')\n",
    "plt.xlabel('Class')\n",
    "plt.ylabel('Count')\n",
    "plt.show()"
   ]
  },
  {
   "cell_type": "code",
   "execution_count": 58,
   "id": "2fbc472c-fdf2-4c70-92aa-bd5d4f2f23a4",
   "metadata": {},
   "outputs": [
    {
     "name": "stdout",
     "output_type": "stream",
     "text": [
      "                                                text\n",
      "0  From ilug-admin@linux.ie Mon Jul 29 11:28:02 2...\n",
      "1  From gort44@excite.com Mon Jun 24 17:54:21 200...\n",
      "2  From fork-admin@xent.com Mon Jul 29 11:39:57 2...\n",
      "3  From dcm123@btamail.net.cn Mon Jun 24 17:49:23...\n",
      "4  From ilug-admin@linux.ie Mon Aug 19 11:02:47 2...\n",
      "   target\n",
      "0       0\n",
      "1       1\n",
      "2       1\n",
      "3       1\n",
      "4       0\n"
     ]
    }
   ],
   "source": [
    "# separating targets and features\n",
    "target_column = ['target']\n",
    "X = df.drop(target_column, axis=1)\n",
    "y = pd.DataFrame(df['target'], columns=['target'])\n",
    "print(X.head()) #features\n",
    "print(y.head()) #target"
   ]
  },
  {
   "cell_type": "code",
   "execution_count": 59,
   "id": "e6a84f66-6c9d-40ac-a8e4-6d11fa2641b0",
   "metadata": {},
   "outputs": [],
   "source": [
    "def Data_Preprocessing(data):\n",
    "    # remove HTML tags\n",
    "    data = re.sub(r'<[^>]+>', '', data)\n",
    "    \n",
    "    # Remove email addresses\n",
    "    data = re.sub(r'\\b\\S+@\\S+\\b', '', data)  \n",
    "\n",
    "    \n",
    "    # Convert to lowercase\n",
    "    data = data.lower()  \n",
    "    \n",
    "    # Tokenization\n",
    "    tokens = word_tokenize(data)   \n",
    "    \n",
    "    # Remove punctuation and stopwords\n",
    "    stop_words = set(stopwords.words('english'))\n",
    "    filtered_tokens = [token for token in tokens if token.isalpha() and token not in stop_words]\n",
    "\n",
    "    # Lemmatization => reduces words to their base form\n",
    "    lemmatizer = WordNetLemmatizer()\n",
    "    lemmatized_tokens = [lemmatizer.lemmatize(token) for token in filtered_tokens]\n",
    "    \n",
    "    # Convert tokens into text again (into single string)\n",
    "    preprocessed_data = ' '.join(lemmatized_tokens)\n",
    "    return preprocessed_data"
   ]
  },
  {
   "cell_type": "code",
   "execution_count": 60,
   "id": "08fc065b-8e52-4331-a9a4-d963379a2b7b",
   "metadata": {},
   "outputs": [
    {
     "name": "stdout",
     "output_type": "stream",
     "text": [
      "Show preprocessed data:\n",
      "0    mon jul received localhost localhost postfix e...\n",
      "1    mon jun tue jun received esmtp id tue jun rece...\n",
      "2    mon jul received localhost localhost postfix e...\n",
      "3    mon jun mon jun received esmtp id mon jun rece...\n",
      "4    mon aug received localhost localhost postfix e...\n",
      "Name: text, dtype: object\n"
     ]
    }
   ],
   "source": [
    "# Apply preprocessing to the text column\n",
    "X['text'] = X['text'].apply(Data_Preprocessing)\n",
    "\n",
    "print(\"Show preprocessed data:\")\n",
    "print(X['text'].head())"
   ]
  },
  {
   "cell_type": "code",
   "execution_count": 61,
   "id": "da3d567b-9438-4d22-bbd8-cbbb981e9fca",
   "metadata": {
    "scrolled": true
   },
   "outputs": [
    {
     "name": "stdout",
     "output_type": "stream",
     "text": [
      "Data with count vectorizer: \n",
      "0    0\n",
      "1    0\n",
      "2    0\n",
      "3    0\n",
      "4    0\n",
      "Name: text, dtype: int64\n",
      "\n"
     ]
    }
   ],
   "source": [
    "# count_vectorizer\n",
    "count_vectorizer = CountVectorizer()                   \n",
    "X_count_vectorizer = count_vectorizer.fit_transform(X['text']) \n",
    "\n",
    "# split the feature col to training and testing data\n",
    "X_train_count_vectorizer, X_test_count_vectorizer, y_train, y_test = train_test_split(X_count_vectorizer, y, test_size=0.4, random_state=42)\n",
    "\n",
    "# Convert X_count_vectorizer to a DataFrame\n",
    "X_count_vectorizer_df = pd.DataFrame(X_count_vectorizer.toarray(), columns=count_vectorizer.get_feature_names_out())\n",
    "print(\"Data with count vectorizer: \" )\n",
    "print(X_count_vectorizer_df['text'].head())\n",
    "print(\"\")\n"
   ]
  },
  {
   "cell_type": "code",
   "execution_count": 62,
   "id": "7fd9f1b9-17ec-4a68-a830-36cfc58889e5",
   "metadata": {},
   "outputs": [
    {
     "name": "stdout",
     "output_type": "stream",
     "text": [
      "Data with TF_IDF: \n",
      "0    0.0\n",
      "1    0.0\n",
      "2    0.0\n",
      "3    0.0\n",
      "4    0.0\n",
      "Name: text, dtype: float64\n",
      "\n"
     ]
    }
   ],
   "source": [
    "# TF_IDF\n",
    "TF_IDF = TfidfVectorizer()\n",
    "X_tfidf = TF_IDF.fit_transform(X['text'])\n",
    "\n",
    "X_train_tfidf, X_test_tfidf,_ , _ = train_test_split(X_tfidf, y, test_size=0.4, random_state=42)\n",
    "\n",
    "# Convert X_tfidf to a DataFrame\n",
    "X_tfidf_df = pd.DataFrame(X_tfidf.toarray(), columns = TF_IDF.get_feature_names_out())\n",
    "print(\"Data with TF_IDF: \" )\n",
    "print(X_tfidf_df['text'].head())\n",
    "print(\"\")\n",
    "\n"
   ]
  },
  {
   "cell_type": "code",
   "execution_count": 63,
   "id": "e914d1ca-048c-42db-a284-02a2fdcad94f",
   "metadata": {},
   "outputs": [
    {
     "data": {
      "text/html": [
       "<style>#sk-container-id-8 {color: black;}#sk-container-id-8 pre{padding: 0;}#sk-container-id-8 div.sk-toggleable {background-color: white;}#sk-container-id-8 label.sk-toggleable__label {cursor: pointer;display: block;width: 100%;margin-bottom: 0;padding: 0.3em;box-sizing: border-box;text-align: center;}#sk-container-id-8 label.sk-toggleable__label-arrow:before {content: \"▸\";float: left;margin-right: 0.25em;color: #696969;}#sk-container-id-8 label.sk-toggleable__label-arrow:hover:before {color: black;}#sk-container-id-8 div.sk-estimator:hover label.sk-toggleable__label-arrow:before {color: black;}#sk-container-id-8 div.sk-toggleable__content {max-height: 0;max-width: 0;overflow: hidden;text-align: left;background-color: #f0f8ff;}#sk-container-id-8 div.sk-toggleable__content pre {margin: 0.2em;color: black;border-radius: 0.25em;background-color: #f0f8ff;}#sk-container-id-8 input.sk-toggleable__control:checked~div.sk-toggleable__content {max-height: 200px;max-width: 100%;overflow: auto;}#sk-container-id-8 input.sk-toggleable__control:checked~label.sk-toggleable__label-arrow:before {content: \"▾\";}#sk-container-id-8 div.sk-estimator input.sk-toggleable__control:checked~label.sk-toggleable__label {background-color: #d4ebff;}#sk-container-id-8 div.sk-label input.sk-toggleable__control:checked~label.sk-toggleable__label {background-color: #d4ebff;}#sk-container-id-8 input.sk-hidden--visually {border: 0;clip: rect(1px 1px 1px 1px);clip: rect(1px, 1px, 1px, 1px);height: 1px;margin: -1px;overflow: hidden;padding: 0;position: absolute;width: 1px;}#sk-container-id-8 div.sk-estimator {font-family: monospace;background-color: #f0f8ff;border: 1px dotted black;border-radius: 0.25em;box-sizing: border-box;margin-bottom: 0.5em;}#sk-container-id-8 div.sk-estimator:hover {background-color: #d4ebff;}#sk-container-id-8 div.sk-parallel-item::after {content: \"\";width: 100%;border-bottom: 1px solid gray;flex-grow: 1;}#sk-container-id-8 div.sk-label:hover label.sk-toggleable__label {background-color: #d4ebff;}#sk-container-id-8 div.sk-serial::before {content: \"\";position: absolute;border-left: 1px solid gray;box-sizing: border-box;top: 0;bottom: 0;left: 50%;z-index: 0;}#sk-container-id-8 div.sk-serial {display: flex;flex-direction: column;align-items: center;background-color: white;padding-right: 0.2em;padding-left: 0.2em;position: relative;}#sk-container-id-8 div.sk-item {position: relative;z-index: 1;}#sk-container-id-8 div.sk-parallel {display: flex;align-items: stretch;justify-content: center;background-color: white;position: relative;}#sk-container-id-8 div.sk-item::before, #sk-container-id-8 div.sk-parallel-item::before {content: \"\";position: absolute;border-left: 1px solid gray;box-sizing: border-box;top: 0;bottom: 0;left: 50%;z-index: -1;}#sk-container-id-8 div.sk-parallel-item {display: flex;flex-direction: column;z-index: 1;position: relative;background-color: white;}#sk-container-id-8 div.sk-parallel-item:first-child::after {align-self: flex-end;width: 50%;}#sk-container-id-8 div.sk-parallel-item:last-child::after {align-self: flex-start;width: 50%;}#sk-container-id-8 div.sk-parallel-item:only-child::after {width: 0;}#sk-container-id-8 div.sk-dashed-wrapped {border: 1px dashed gray;margin: 0 0.4em 0.5em 0.4em;box-sizing: border-box;padding-bottom: 0.4em;background-color: white;}#sk-container-id-8 div.sk-label label {font-family: monospace;font-weight: bold;display: inline-block;line-height: 1.2em;}#sk-container-id-8 div.sk-label-container {text-align: center;}#sk-container-id-8 div.sk-container {/* jupyter's `normalize.less` sets `[hidden] { display: none; }` but bootstrap.min.css set `[hidden] { display: none !important; }` so we also need the `!important` here to be able to override the default hidden behavior on the sphinx rendered scikit-learn.org. See: https://github.com/scikit-learn/scikit-learn/issues/21755 */display: inline-block !important;position: relative;}#sk-container-id-8 div.sk-text-repr-fallback {display: none;}</style><div id=\"sk-container-id-8\" class=\"sk-top-container\"><div class=\"sk-text-repr-fallback\"><pre>LogisticRegression()</pre><b>In a Jupyter environment, please rerun this cell to show the HTML representation or trust the notebook. <br />On GitHub, the HTML representation is unable to render, please try loading this page with nbviewer.org.</b></div><div class=\"sk-container\" hidden><div class=\"sk-item\"><div class=\"sk-estimator sk-toggleable\"><input class=\"sk-toggleable__control sk-hidden--visually\" id=\"sk-estimator-id-8\" type=\"checkbox\" checked><label for=\"sk-estimator-id-8\" class=\"sk-toggleable__label sk-toggleable__label-arrow\">LogisticRegression</label><div class=\"sk-toggleable__content\"><pre>LogisticRegression()</pre></div></div></div></div></div>"
      ],
      "text/plain": [
       "LogisticRegression()"
      ]
     },
     "execution_count": 63,
     "metadata": {},
     "output_type": "execute_result"
    }
   ],
   "source": [
    "# Decision tree \n",
    "decision_tree_CountVector = DecisionTreeClassifier()\n",
    "decision_tree_TFIDF = DecisionTreeClassifier()\n",
    "\n",
    "# Logistic Regression\n",
    "logistic_regression_CountVectorizer = LogisticRegression()\n",
    "logistic_regression_TFIDF = LogisticRegression()\n",
    "\n",
    "# Train models with TF_IDF\n",
    "decision_tree_TFIDF.fit(X_train_tfidf, y_train)\n",
    "logistic_regression_TFIDF.fit(X_train_tfidf, y_train)\n",
    "\n",
    "# Train models with Count Vectorizer\n",
    "decision_tree_CountVector.fit(X_train_count_vectorizer, y_train)\n",
    "logistic_regression_CountVectorizer.fit(X_train_tfidf, y_train)"
   ]
  },
  {
   "cell_type": "code",
   "execution_count": 64,
   "id": "e220f257-a325-4d51-9089-09615f3401f9",
   "metadata": {},
   "outputs": [],
   "source": [
    "# Word2Vec\n",
    "# tokenize the data and store it in another col\n",
    "X['tokens'] = X['text'].apply(word_tokenize)\n",
    "\n",
    "# train the model\n",
    "word2vec_model = Word2Vec(sentences = X['tokens'], vector_size=100, window=5, min_count=2,sg=0)\n",
    "\n",
    "# get word embeddings from word2vec\n",
    "word_embeddings = word2vec_model.wv\n",
    "\n",
    "document_embeddings = []\n",
    "for tokens in X['tokens']:\n",
    "    doc_embedding = np.mean([word_embeddings[token] for token in tokens if token in word_embeddings], axis=0)\n",
    "    document_embeddings.append(doc_embedding)\n"
   ]
  },
  {
   "cell_type": "code",
   "execution_count": 65,
   "id": "7ffe4796-5a76-4850-a7f0-08dc3d1986b8",
   "metadata": {},
   "outputs": [
    {
     "data": {
      "text/html": [
       "<style>#sk-container-id-9 {color: black;}#sk-container-id-9 pre{padding: 0;}#sk-container-id-9 div.sk-toggleable {background-color: white;}#sk-container-id-9 label.sk-toggleable__label {cursor: pointer;display: block;width: 100%;margin-bottom: 0;padding: 0.3em;box-sizing: border-box;text-align: center;}#sk-container-id-9 label.sk-toggleable__label-arrow:before {content: \"▸\";float: left;margin-right: 0.25em;color: #696969;}#sk-container-id-9 label.sk-toggleable__label-arrow:hover:before {color: black;}#sk-container-id-9 div.sk-estimator:hover label.sk-toggleable__label-arrow:before {color: black;}#sk-container-id-9 div.sk-toggleable__content {max-height: 0;max-width: 0;overflow: hidden;text-align: left;background-color: #f0f8ff;}#sk-container-id-9 div.sk-toggleable__content pre {margin: 0.2em;color: black;border-radius: 0.25em;background-color: #f0f8ff;}#sk-container-id-9 input.sk-toggleable__control:checked~div.sk-toggleable__content {max-height: 200px;max-width: 100%;overflow: auto;}#sk-container-id-9 input.sk-toggleable__control:checked~label.sk-toggleable__label-arrow:before {content: \"▾\";}#sk-container-id-9 div.sk-estimator input.sk-toggleable__control:checked~label.sk-toggleable__label {background-color: #d4ebff;}#sk-container-id-9 div.sk-label input.sk-toggleable__control:checked~label.sk-toggleable__label {background-color: #d4ebff;}#sk-container-id-9 input.sk-hidden--visually {border: 0;clip: rect(1px 1px 1px 1px);clip: rect(1px, 1px, 1px, 1px);height: 1px;margin: -1px;overflow: hidden;padding: 0;position: absolute;width: 1px;}#sk-container-id-9 div.sk-estimator {font-family: monospace;background-color: #f0f8ff;border: 1px dotted black;border-radius: 0.25em;box-sizing: border-box;margin-bottom: 0.5em;}#sk-container-id-9 div.sk-estimator:hover {background-color: #d4ebff;}#sk-container-id-9 div.sk-parallel-item::after {content: \"\";width: 100%;border-bottom: 1px solid gray;flex-grow: 1;}#sk-container-id-9 div.sk-label:hover label.sk-toggleable__label {background-color: #d4ebff;}#sk-container-id-9 div.sk-serial::before {content: \"\";position: absolute;border-left: 1px solid gray;box-sizing: border-box;top: 0;bottom: 0;left: 50%;z-index: 0;}#sk-container-id-9 div.sk-serial {display: flex;flex-direction: column;align-items: center;background-color: white;padding-right: 0.2em;padding-left: 0.2em;position: relative;}#sk-container-id-9 div.sk-item {position: relative;z-index: 1;}#sk-container-id-9 div.sk-parallel {display: flex;align-items: stretch;justify-content: center;background-color: white;position: relative;}#sk-container-id-9 div.sk-item::before, #sk-container-id-9 div.sk-parallel-item::before {content: \"\";position: absolute;border-left: 1px solid gray;box-sizing: border-box;top: 0;bottom: 0;left: 50%;z-index: -1;}#sk-container-id-9 div.sk-parallel-item {display: flex;flex-direction: column;z-index: 1;position: relative;background-color: white;}#sk-container-id-9 div.sk-parallel-item:first-child::after {align-self: flex-end;width: 50%;}#sk-container-id-9 div.sk-parallel-item:last-child::after {align-self: flex-start;width: 50%;}#sk-container-id-9 div.sk-parallel-item:only-child::after {width: 0;}#sk-container-id-9 div.sk-dashed-wrapped {border: 1px dashed gray;margin: 0 0.4em 0.5em 0.4em;box-sizing: border-box;padding-bottom: 0.4em;background-color: white;}#sk-container-id-9 div.sk-label label {font-family: monospace;font-weight: bold;display: inline-block;line-height: 1.2em;}#sk-container-id-9 div.sk-label-container {text-align: center;}#sk-container-id-9 div.sk-container {/* jupyter's `normalize.less` sets `[hidden] { display: none; }` but bootstrap.min.css set `[hidden] { display: none !important; }` so we also need the `!important` here to be able to override the default hidden behavior on the sphinx rendered scikit-learn.org. See: https://github.com/scikit-learn/scikit-learn/issues/21755 */display: inline-block !important;position: relative;}#sk-container-id-9 div.sk-text-repr-fallback {display: none;}</style><div id=\"sk-container-id-9\" class=\"sk-top-container\"><div class=\"sk-text-repr-fallback\"><pre>DecisionTreeClassifier()</pre><b>In a Jupyter environment, please rerun this cell to show the HTML representation or trust the notebook. <br />On GitHub, the HTML representation is unable to render, please try loading this page with nbviewer.org.</b></div><div class=\"sk-container\" hidden><div class=\"sk-item\"><div class=\"sk-estimator sk-toggleable\"><input class=\"sk-toggleable__control sk-hidden--visually\" id=\"sk-estimator-id-9\" type=\"checkbox\" checked><label for=\"sk-estimator-id-9\" class=\"sk-toggleable__label sk-toggleable__label-arrow\">DecisionTreeClassifier</label><div class=\"sk-toggleable__content\"><pre>DecisionTreeClassifier()</pre></div></div></div></div></div>"
      ],
      "text/plain": [
       "DecisionTreeClassifier()"
      ]
     },
     "execution_count": 65,
     "metadata": {},
     "output_type": "execute_result"
    }
   ],
   "source": [
    "# splitting for word2vector\n",
    "X_train_W2V, X_test_W2V, _, _ = train_test_split(document_embeddings, y, test_size=0.4, random_state=42)\n",
    "\n",
    "# Decision Tree and Logistic models for Word2Vec\n",
    "decision_tree_W2V = DecisionTreeClassifier()\n",
    "logistic_regression_W2V = LogisticRegression()\n",
    "\n",
    "# Training the models with data\n",
    "logistic_regression_W2V.fit(X_train_W2V, y_train)\n",
    "decision_tree_W2V.fit(X_train_W2V, y_train)"
   ]
  },
  {
   "cell_type": "code",
   "execution_count": 66,
   "id": "c7fc8d59-5299-4a99-ac63-9ffe995c8c21",
   "metadata": {},
   "outputs": [],
   "source": [
    "# Initialize and train the Doc2Vec model\n",
    "\n",
    "# function to add a unique ID to each document (row)\n",
    "def tag_docs(tokens):\n",
    "    taged_documents = []\n",
    "    for i in range(len(tokens)):\n",
    "        taged_documents.append(TaggedDocument(words=tokens[i], tags=[str(i)]))\n",
    "    return taged_documents\n",
    "\n",
    "# rows (documents) with their tags\n",
    "tagged_documents = tag_docs(X['tokens'])\n",
    "\n",
    "# train the model\n",
    "model = Doc2Vec(documents = tagged_documents, vector_size=100, window=5, min_count=1)\n",
    "\n",
    "# Document vectors after training\n",
    "document_vectors = [model.dv[idx] for idx in range(len(tagged_documents))]"
   ]
  },
  {
   "cell_type": "code",
   "execution_count": 67,
   "id": "4f6a6d63-958b-400b-88ac-ad63d742da07",
   "metadata": {},
   "outputs": [
    {
     "data": {
      "text/html": [
       "<style>#sk-container-id-10 {color: black;}#sk-container-id-10 pre{padding: 0;}#sk-container-id-10 div.sk-toggleable {background-color: white;}#sk-container-id-10 label.sk-toggleable__label {cursor: pointer;display: block;width: 100%;margin-bottom: 0;padding: 0.3em;box-sizing: border-box;text-align: center;}#sk-container-id-10 label.sk-toggleable__label-arrow:before {content: \"▸\";float: left;margin-right: 0.25em;color: #696969;}#sk-container-id-10 label.sk-toggleable__label-arrow:hover:before {color: black;}#sk-container-id-10 div.sk-estimator:hover label.sk-toggleable__label-arrow:before {color: black;}#sk-container-id-10 div.sk-toggleable__content {max-height: 0;max-width: 0;overflow: hidden;text-align: left;background-color: #f0f8ff;}#sk-container-id-10 div.sk-toggleable__content pre {margin: 0.2em;color: black;border-radius: 0.25em;background-color: #f0f8ff;}#sk-container-id-10 input.sk-toggleable__control:checked~div.sk-toggleable__content {max-height: 200px;max-width: 100%;overflow: auto;}#sk-container-id-10 input.sk-toggleable__control:checked~label.sk-toggleable__label-arrow:before {content: \"▾\";}#sk-container-id-10 div.sk-estimator input.sk-toggleable__control:checked~label.sk-toggleable__label {background-color: #d4ebff;}#sk-container-id-10 div.sk-label input.sk-toggleable__control:checked~label.sk-toggleable__label {background-color: #d4ebff;}#sk-container-id-10 input.sk-hidden--visually {border: 0;clip: rect(1px 1px 1px 1px);clip: rect(1px, 1px, 1px, 1px);height: 1px;margin: -1px;overflow: hidden;padding: 0;position: absolute;width: 1px;}#sk-container-id-10 div.sk-estimator {font-family: monospace;background-color: #f0f8ff;border: 1px dotted black;border-radius: 0.25em;box-sizing: border-box;margin-bottom: 0.5em;}#sk-container-id-10 div.sk-estimator:hover {background-color: #d4ebff;}#sk-container-id-10 div.sk-parallel-item::after {content: \"\";width: 100%;border-bottom: 1px solid gray;flex-grow: 1;}#sk-container-id-10 div.sk-label:hover label.sk-toggleable__label {background-color: #d4ebff;}#sk-container-id-10 div.sk-serial::before {content: \"\";position: absolute;border-left: 1px solid gray;box-sizing: border-box;top: 0;bottom: 0;left: 50%;z-index: 0;}#sk-container-id-10 div.sk-serial {display: flex;flex-direction: column;align-items: center;background-color: white;padding-right: 0.2em;padding-left: 0.2em;position: relative;}#sk-container-id-10 div.sk-item {position: relative;z-index: 1;}#sk-container-id-10 div.sk-parallel {display: flex;align-items: stretch;justify-content: center;background-color: white;position: relative;}#sk-container-id-10 div.sk-item::before, #sk-container-id-10 div.sk-parallel-item::before {content: \"\";position: absolute;border-left: 1px solid gray;box-sizing: border-box;top: 0;bottom: 0;left: 50%;z-index: -1;}#sk-container-id-10 div.sk-parallel-item {display: flex;flex-direction: column;z-index: 1;position: relative;background-color: white;}#sk-container-id-10 div.sk-parallel-item:first-child::after {align-self: flex-end;width: 50%;}#sk-container-id-10 div.sk-parallel-item:last-child::after {align-self: flex-start;width: 50%;}#sk-container-id-10 div.sk-parallel-item:only-child::after {width: 0;}#sk-container-id-10 div.sk-dashed-wrapped {border: 1px dashed gray;margin: 0 0.4em 0.5em 0.4em;box-sizing: border-box;padding-bottom: 0.4em;background-color: white;}#sk-container-id-10 div.sk-label label {font-family: monospace;font-weight: bold;display: inline-block;line-height: 1.2em;}#sk-container-id-10 div.sk-label-container {text-align: center;}#sk-container-id-10 div.sk-container {/* jupyter's `normalize.less` sets `[hidden] { display: none; }` but bootstrap.min.css set `[hidden] { display: none !important; }` so we also need the `!important` here to be able to override the default hidden behavior on the sphinx rendered scikit-learn.org. See: https://github.com/scikit-learn/scikit-learn/issues/21755 */display: inline-block !important;position: relative;}#sk-container-id-10 div.sk-text-repr-fallback {display: none;}</style><div id=\"sk-container-id-10\" class=\"sk-top-container\"><div class=\"sk-text-repr-fallback\"><pre>DecisionTreeClassifier()</pre><b>In a Jupyter environment, please rerun this cell to show the HTML representation or trust the notebook. <br />On GitHub, the HTML representation is unable to render, please try loading this page with nbviewer.org.</b></div><div class=\"sk-container\" hidden><div class=\"sk-item\"><div class=\"sk-estimator sk-toggleable\"><input class=\"sk-toggleable__control sk-hidden--visually\" id=\"sk-estimator-id-10\" type=\"checkbox\" checked><label for=\"sk-estimator-id-10\" class=\"sk-toggleable__label sk-toggleable__label-arrow\">DecisionTreeClassifier</label><div class=\"sk-toggleable__content\"><pre>DecisionTreeClassifier()</pre></div></div></div></div></div>"
      ],
      "text/plain": [
       "DecisionTreeClassifier()"
      ]
     },
     "execution_count": 67,
     "metadata": {},
     "output_type": "execute_result"
    }
   ],
   "source": [
    "X_train_Doc2Vec, X_test_Doc2Vec, _, _ = train_test_split(document_vectors, y, test_size=0.4, random_state=42)\n",
    "\n",
    "# Decision Tree and Logistic models for Doc2Vec\n",
    "decision_tree_Doc2Vec = DecisionTreeClassifier()\n",
    "logistic_regression_Doc2Vec = LogisticRegression()\n",
    "\n",
    "# Training the models with data\n",
    "logistic_regression_Doc2Vec.fit(X_train_Doc2Vec, y_train)\n",
    "decision_tree_Doc2Vec.fit(X_train_Doc2Vec, y_train)"
   ]
  },
  {
   "cell_type": "code",
   "execution_count": 68,
   "id": "a1f80e46-0ca7-47b9-be90-a7ca9390d9f8",
   "metadata": {},
   "outputs": [],
   "source": [
    "# Predictions with Logistic Regression model\n",
    "y_predict_CountVectorizer_Logistic = logistic_regression_CountVectorizer.predict(X_test_count_vectorizer)\n",
    "y_predict_TFIDF_Logistic = logistic_regression_TFIDF.predict(X_test_tfidf)\n",
    "y_predict_word2vec_Logistic = logistic_regression_W2V.predict(X_test_W2V)\n",
    "y_predict_D2V_Logistic = logistic_regression_Doc2Vec.predict(X_test_Doc2Vec)\n",
    "\n",
    "# Predictions with Decision Tree\n",
    "y_predict_CountVectorizer_DT = decision_tree_CountVector.predict(X_test_count_vectorizer)\n",
    "y_predict_TFIDF_DT = decision_tree_TFIDF.predict(X_test_tfidf)\n",
    "y_predict_word2vec_DT = decision_tree_W2V.predict(X_test_W2V)\n",
    "y_predict_D2V_DT = decision_tree_Doc2Vec.predict(X_test_Doc2Vec)"
   ]
  },
  {
   "cell_type": "code",
   "execution_count": 71,
   "id": "dacd412d-28aa-4c52-a870-f7ff0f42d1b0",
   "metadata": {},
   "outputs": [],
   "source": [
    "evaluationAns = []\n",
    "# function to evaluate the different models with different embeddings\n",
    "def evaluate(y_test, y_predict, modelName, embeddingType):\n",
    "    precision = precision_score(y_test, y_predict)\n",
    "    recall = recall_score(y_test, y_predict)\n",
    "    f1 = f1_score(y_test, y_predict)\n",
    "    accuracy = accuracy_score(y_test, y_predict)\n",
    "    evaluationAns.append(\n",
    "        {\n",
    "            \"Model Name \": modelName,\n",
    "            \"Embedding \": embeddingType,\n",
    "            \"Precision \": precision,\n",
    "            \"Recall \": recall,\n",
    "            \"F1_score \": f1,\n",
    "            \"Accuracy \": accuracy\n",
    "        }\n",
    "    )"
   ]
  },
  {
   "cell_type": "code",
   "execution_count": 72,
   "id": "f85f1059-5ff5-42a3-94e9-1c49d4e21053",
   "metadata": {},
   "outputs": [
    {
     "name": "stdout",
     "output_type": "stream",
     "text": [
      "|    | Model Name    | Embedding        |   Precision  |   Recall  |   F1_score  |   Accuracy  |\n",
      "|---:|:--------------|:-----------------|-------------:|----------:|------------:|------------:|\n",
      "|  0 | Logistic      | Count Vectorizer |     0.99572  |  0.930667 |    0.962095 |    0.976283 |\n",
      "|  1 | Logistic      | TF_IDF           |     0.998553 |  0.92     |    0.957668 |    0.973696 |\n",
      "|  2 | Logistic      | Word2Vec         |     0.990371 |  0.96     |    0.974949 |    0.984045 |\n",
      "|  3 | Logistic      | Doc2Vec          |     0.955182 |  0.909333 |    0.931694 |    0.956878 |\n",
      "|  4 | Decision Tree | TF_IDF           |     0.951482 |  0.941333 |    0.946381 |    0.965502 |\n",
      "|  5 | Decision Tree | Count Vectorizer |     0.946667 |  0.946667 |    0.946667 |    0.965502 |\n",
      "|  6 | Decision Tree | Word2Vec         |     0.961111 |  0.922667 |    0.941497 |    0.962915 |\n",
      "|  7 | Decision Tree | Doc2Vec          |     0.837653 |  0.818667 |    0.828051 |    0.890039 |\n"
     ]
    }
   ],
   "source": [
    "evaluate(y_test,y_predict_CountVectorizer_Logistic, \"Logistic\", \"Count Vectorizer\")   \n",
    "evaluate(y_test,y_predict_TFIDF_Logistic, \"Logistic\", \"TF_IDF\")  \n",
    "evaluate(y_test,y_predict_word2vec_Logistic, \"Logistic\", \"Word2Vec\")\n",
    "evaluate(y_test,y_predict_D2V_Logistic, \"Logistic\", \"Doc2Vec\") \n",
    "\n",
    "\n",
    "evaluate(y_test,y_predict_TFIDF_DT, \"Decision Tree\", \"TF_IDF\")\n",
    "evaluate(y_test,y_predict_CountVectorizer_DT, \"Decision Tree\", \"Count Vectorizer\") \n",
    "evaluate(y_test,y_predict_word2vec_DT, \"Decision Tree\", \"Word2Vec\") \n",
    "evaluate(y_test,y_predict_D2V_DT, \"Decision Tree\", \"Doc2Vec\")\n",
    " \n",
    "evaluationDF = pd.DataFrame(evaluationAns)\n",
    "\n",
    "# Display DataFrame as a table\n",
    "print(tabulate(evaluationDF, headers='keys', tablefmt='pipe'))\n",
    "\n",
    "  \n",
    "# print(evaluationDF)"
   ]
  },
  {
   "cell_type": "code",
   "execution_count": null,
   "id": "c06a00fc-4b22-497f-bf30-442996e8f6e3",
   "metadata": {},
   "outputs": [],
   "source": []
  }
 ],
 "metadata": {
  "kernelspec": {
   "display_name": "Python 3 (ipykernel)",
   "language": "python",
   "name": "python3"
  },
  "language_info": {
   "codemirror_mode": {
    "name": "ipython",
    "version": 3
   },
   "file_extension": ".py",
   "mimetype": "text/x-python",
   "name": "python",
   "nbconvert_exporter": "python",
   "pygments_lexer": "ipython3",
   "version": "3.12.0"
  }
 },
 "nbformat": 4,
 "nbformat_minor": 5
}
